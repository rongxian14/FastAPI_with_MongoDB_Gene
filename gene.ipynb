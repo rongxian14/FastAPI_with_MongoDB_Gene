{
 "cells": [
  {
   "cell_type": "code",
   "execution_count": 65,
   "metadata": {},
   "outputs": [],
   "source": [
    "import pandas as pd"
   ]
  },
  {
   "cell_type": "code",
   "execution_count": 66,
   "metadata": {},
   "outputs": [],
   "source": [
    "from pymongo import MongoClient\n",
    "client = MongoClient('localhost', 27017)\n",
    "db = client['sample']\n",
    "col = db['expression_data']"
   ]
  },
  {
   "cell_type": "code",
   "execution_count": 67,
   "metadata": {},
   "outputs": [
    {
     "data": {
      "text/html": [
       "<div>\n",
       "<style scoped>\n",
       "    .dataframe tbody tr th:only-of-type {\n",
       "        vertical-align: middle;\n",
       "    }\n",
       "\n",
       "    .dataframe tbody tr th {\n",
       "        vertical-align: top;\n",
       "    }\n",
       "\n",
       "    .dataframe thead th {\n",
       "        text-align: right;\n",
       "    }\n",
       "</style>\n",
       "<table border=\"1\" class=\"dataframe\">\n",
       "  <thead>\n",
       "    <tr style=\"text-align: right;\">\n",
       "      <th></th>\n",
       "      <th>Gene ID</th>\n",
       "      <th>Gene Name</th>\n",
       "      <th>Chromosome</th>\n",
       "      <th>Start Position</th>\n",
       "      <th>End Position</th>\n",
       "    </tr>\n",
       "  </thead>\n",
       "  <tbody>\n",
       "    <tr>\n",
       "      <th>0</th>\n",
       "      <td>MEPQFQ9Z</td>\n",
       "      <td>Gene_IWVWK</td>\n",
       "      <td>chr1</td>\n",
       "      <td>761616</td>\n",
       "      <td>1578683</td>\n",
       "    </tr>\n",
       "    <tr>\n",
       "      <th>1</th>\n",
       "      <td>A0EACQ85</td>\n",
       "      <td>Gene_5PEJS</td>\n",
       "      <td>chr17</td>\n",
       "      <td>339598</td>\n",
       "      <td>1081528</td>\n",
       "    </tr>\n",
       "    <tr>\n",
       "      <th>2</th>\n",
       "      <td>HZA08PZ7</td>\n",
       "      <td>Gene_VK419</td>\n",
       "      <td>chr6</td>\n",
       "      <td>60362</td>\n",
       "      <td>1214780</td>\n",
       "    </tr>\n",
       "    <tr>\n",
       "      <th>3</th>\n",
       "      <td>3IBMS02U</td>\n",
       "      <td>Gene_7ZR22</td>\n",
       "      <td>chr9</td>\n",
       "      <td>276649</td>\n",
       "      <td>1577759</td>\n",
       "    </tr>\n",
       "    <tr>\n",
       "      <th>4</th>\n",
       "      <td>WGTF1420</td>\n",
       "      <td>Gene_N7T1C</td>\n",
       "      <td>chr17</td>\n",
       "      <td>45172</td>\n",
       "      <td>1739962</td>\n",
       "    </tr>\n",
       "  </tbody>\n",
       "</table>\n",
       "</div>"
      ],
      "text/plain": [
       "    Gene ID   Gene Name Chromosome  Start Position  End Position\n",
       "0  MEPQFQ9Z  Gene_IWVWK       chr1          761616       1578683\n",
       "1  A0EACQ85  Gene_5PEJS      chr17          339598       1081528\n",
       "2  HZA08PZ7  Gene_VK419       chr6           60362       1214780\n",
       "3  3IBMS02U  Gene_7ZR22       chr9          276649       1577759\n",
       "4  WGTF1420  Gene_N7T1C      chr17           45172       1739962"
      ]
     },
     "execution_count": 67,
     "metadata": {},
     "output_type": "execute_result"
    }
   ],
   "source": [
    "gene_info = pd.read_csv('Gene_Information.csv')\n",
    "gene_info.head()"
   ]
  },
  {
   "cell_type": "code",
   "execution_count": 68,
   "metadata": {},
   "outputs": [],
   "source": [
    "gene_info_dict = gene_info.to_dict(orient='records')"
   ]
  },
  {
   "cell_type": "code",
   "execution_count": 69,
   "metadata": {},
   "outputs": [
    {
     "data": {
      "text/plain": [
       "InsertManyResult([ObjectId('66706ac7d9c119c8de26046c'), ObjectId('66706ac7d9c119c8de26046d'), ObjectId('66706ac7d9c119c8de26046e'), ObjectId('66706ac7d9c119c8de26046f'), ObjectId('66706ac7d9c119c8de260470'), ObjectId('66706ac7d9c119c8de260471'), ObjectId('66706ac7d9c119c8de260472'), ObjectId('66706ac7d9c119c8de260473'), ObjectId('66706ac7d9c119c8de260474'), ObjectId('66706ac7d9c119c8de260475'), ObjectId('66706ac7d9c119c8de260476'), ObjectId('66706ac7d9c119c8de260477'), ObjectId('66706ac7d9c119c8de260478'), ObjectId('66706ac7d9c119c8de260479'), ObjectId('66706ac7d9c119c8de26047a'), ObjectId('66706ac7d9c119c8de26047b'), ObjectId('66706ac7d9c119c8de26047c'), ObjectId('66706ac7d9c119c8de26047d'), ObjectId('66706ac7d9c119c8de26047e'), ObjectId('66706ac7d9c119c8de26047f'), ObjectId('66706ac7d9c119c8de260480'), ObjectId('66706ac7d9c119c8de260481'), ObjectId('66706ac7d9c119c8de260482'), ObjectId('66706ac7d9c119c8de260483'), ObjectId('66706ac7d9c119c8de260484'), ObjectId('66706ac7d9c119c8de260485'), ObjectId('66706ac7d9c119c8de260486'), ObjectId('66706ac7d9c119c8de260487'), ObjectId('66706ac7d9c119c8de260488'), ObjectId('66706ac7d9c119c8de260489'), ObjectId('66706ac7d9c119c8de26048a'), ObjectId('66706ac7d9c119c8de26048b'), ObjectId('66706ac7d9c119c8de26048c'), ObjectId('66706ac7d9c119c8de26048d'), ObjectId('66706ac7d9c119c8de26048e'), ObjectId('66706ac7d9c119c8de26048f'), ObjectId('66706ac7d9c119c8de260490'), ObjectId('66706ac7d9c119c8de260491'), ObjectId('66706ac7d9c119c8de260492'), ObjectId('66706ac7d9c119c8de260493'), ObjectId('66706ac7d9c119c8de260494'), ObjectId('66706ac7d9c119c8de260495'), ObjectId('66706ac7d9c119c8de260496'), ObjectId('66706ac7d9c119c8de260497'), ObjectId('66706ac7d9c119c8de260498'), ObjectId('66706ac7d9c119c8de260499'), ObjectId('66706ac7d9c119c8de26049a'), ObjectId('66706ac7d9c119c8de26049b'), ObjectId('66706ac7d9c119c8de26049c'), ObjectId('66706ac7d9c119c8de26049d')], acknowledged=True)"
      ]
     },
     "execution_count": 69,
     "metadata": {},
     "output_type": "execute_result"
    }
   ],
   "source": [
    "col.insert_many(gene_info_dict)"
   ]
  },
  {
   "cell_type": "code",
   "execution_count": 70,
   "metadata": {},
   "outputs": [
    {
     "data": {
      "text/html": [
       "<div>\n",
       "<style scoped>\n",
       "    .dataframe tbody tr th:only-of-type {\n",
       "        vertical-align: middle;\n",
       "    }\n",
       "\n",
       "    .dataframe tbody tr th {\n",
       "        vertical-align: top;\n",
       "    }\n",
       "\n",
       "    .dataframe thead th {\n",
       "        text-align: right;\n",
       "    }\n",
       "</style>\n",
       "<table border=\"1\" class=\"dataframe\">\n",
       "  <thead>\n",
       "    <tr style=\"text-align: right;\">\n",
       "      <th></th>\n",
       "      <th>Sample ID</th>\n",
       "      <th>Gene ID</th>\n",
       "      <th>Expression Level</th>\n",
       "      <th>Condition</th>\n",
       "    </tr>\n",
       "  </thead>\n",
       "  <tbody>\n",
       "    <tr>\n",
       "      <th>0</th>\n",
       "      <td>BHN1HRQWBL</td>\n",
       "      <td>MEPQFQ9Z</td>\n",
       "      <td>91.83</td>\n",
       "      <td>Cancer_Type_A</td>\n",
       "    </tr>\n",
       "    <tr>\n",
       "      <th>1</th>\n",
       "      <td>RO907Y9BQY</td>\n",
       "      <td>MEPQFQ9Z</td>\n",
       "      <td>85.36</td>\n",
       "      <td>Cancer_Type_A</td>\n",
       "    </tr>\n",
       "    <tr>\n",
       "      <th>2</th>\n",
       "      <td>TYTH27KO5M</td>\n",
       "      <td>MEPQFQ9Z</td>\n",
       "      <td>15.98</td>\n",
       "      <td>Cancer_Type_B</td>\n",
       "    </tr>\n",
       "    <tr>\n",
       "      <th>3</th>\n",
       "      <td>0LIP0B6TUM</td>\n",
       "      <td>MEPQFQ9Z</td>\n",
       "      <td>79.16</td>\n",
       "      <td>Cancer_Type_B</td>\n",
       "    </tr>\n",
       "    <tr>\n",
       "      <th>4</th>\n",
       "      <td>1RE2OFGVP7</td>\n",
       "      <td>MEPQFQ9Z</td>\n",
       "      <td>87.53</td>\n",
       "      <td>Cancer_Type_B</td>\n",
       "    </tr>\n",
       "  </tbody>\n",
       "</table>\n",
       "</div>"
      ],
      "text/plain": [
       "    Sample ID   Gene ID  Expression Level      Condition\n",
       "0  BHN1HRQWBL  MEPQFQ9Z             91.83  Cancer_Type_A\n",
       "1  RO907Y9BQY  MEPQFQ9Z             85.36  Cancer_Type_A\n",
       "2  TYTH27KO5M  MEPQFQ9Z             15.98  Cancer_Type_B\n",
       "3  0LIP0B6TUM  MEPQFQ9Z             79.16  Cancer_Type_B\n",
       "4  1RE2OFGVP7  MEPQFQ9Z             87.53  Cancer_Type_B"
      ]
     },
     "execution_count": 70,
     "metadata": {},
     "output_type": "execute_result"
    }
   ],
   "source": [
    "expression_data = pd.read_csv('Expression_Data.csv')\n",
    "expression_data.head()"
   ]
  },
  {
   "cell_type": "code",
   "execution_count": 76,
   "metadata": {},
   "outputs": [
    {
     "data": {
      "text/plain": [
       "{'Sample ID': 'BHN1HRQWBL',\n",
       " 'Gene ID': 'MEPQFQ9Z',\n",
       " 'Expression Level': 91.83,\n",
       " 'Condition': 'Cancer_Type_A'}"
      ]
     },
     "execution_count": 76,
     "metadata": {},
     "output_type": "execute_result"
    }
   ],
   "source": [
    "expression_data_dict = expression_data.to_dict(orient='records')\n",
    "expression_data_dict[0]"
   ]
  },
  {
   "cell_type": "code",
   "execution_count": 72,
   "metadata": {},
   "outputs": [],
   "source": [
    "for record in expression_data_dict:\n",
    "    geneID = record['Gene ID']\n",
    "    del record['Gene ID']\n",
    "    \n",
    "    col.update_one(\n",
    "        {\"Gene ID\" : geneID},\n",
    "        {\"$push\":{\"expression\":record}}\n",
    "    )"
   ]
  },
  {
   "cell_type": "code",
   "execution_count": 73,
   "metadata": {},
   "outputs": [
    {
     "data": {
      "text/html": [
       "<div>\n",
       "<style scoped>\n",
       "    .dataframe tbody tr th:only-of-type {\n",
       "        vertical-align: middle;\n",
       "    }\n",
       "\n",
       "    .dataframe tbody tr th {\n",
       "        vertical-align: top;\n",
       "    }\n",
       "\n",
       "    .dataframe thead th {\n",
       "        text-align: right;\n",
       "    }\n",
       "</style>\n",
       "<table border=\"1\" class=\"dataframe\">\n",
       "  <thead>\n",
       "    <tr style=\"text-align: right;\">\n",
       "      <th></th>\n",
       "      <th>Sample ID</th>\n",
       "      <th>Patient ID</th>\n",
       "      <th>Collection Date</th>\n",
       "      <th>Condition</th>\n",
       "      <th>Tissue Type</th>\n",
       "    </tr>\n",
       "  </thead>\n",
       "  <tbody>\n",
       "    <tr>\n",
       "      <th>0</th>\n",
       "      <td>BHN1HRQWBL</td>\n",
       "      <td>9UFVLTBI</td>\n",
       "      <td>2021-04-05</td>\n",
       "      <td>Cancer_Type_A</td>\n",
       "      <td>Blood</td>\n",
       "    </tr>\n",
       "    <tr>\n",
       "      <th>1</th>\n",
       "      <td>RO907Y9BQY</td>\n",
       "      <td>C9Z9VD5G</td>\n",
       "      <td>2021-07-16</td>\n",
       "      <td>Cancer_Type_A</td>\n",
       "      <td>Tissue</td>\n",
       "    </tr>\n",
       "    <tr>\n",
       "      <th>2</th>\n",
       "      <td>TYTH27KO5M</td>\n",
       "      <td>RZLYC6NZ</td>\n",
       "      <td>2022-06-29</td>\n",
       "      <td>Cancer_Type_B</td>\n",
       "      <td>Tissue</td>\n",
       "    </tr>\n",
       "    <tr>\n",
       "      <th>3</th>\n",
       "      <td>0LIP0B6TUM</td>\n",
       "      <td>29ULN150</td>\n",
       "      <td>2022-04-10</td>\n",
       "      <td>Cancer_Type_B</td>\n",
       "      <td>Blood</td>\n",
       "    </tr>\n",
       "    <tr>\n",
       "      <th>4</th>\n",
       "      <td>1RE2OFGVP7</td>\n",
       "      <td>Y1WFWH29</td>\n",
       "      <td>2021-09-29</td>\n",
       "      <td>Cancer_Type_B</td>\n",
       "      <td>Tissue</td>\n",
       "    </tr>\n",
       "  </tbody>\n",
       "</table>\n",
       "</div>"
      ],
      "text/plain": [
       "    Sample ID Patient ID Collection Date      Condition Tissue Type\n",
       "0  BHN1HRQWBL   9UFVLTBI      2021-04-05  Cancer_Type_A       Blood\n",
       "1  RO907Y9BQY   C9Z9VD5G      2021-07-16  Cancer_Type_A      Tissue\n",
       "2  TYTH27KO5M   RZLYC6NZ      2022-06-29  Cancer_Type_B      Tissue\n",
       "3  0LIP0B6TUM   29ULN150      2022-04-10  Cancer_Type_B       Blood\n",
       "4  1RE2OFGVP7   Y1WFWH29      2021-09-29  Cancer_Type_B      Tissue"
      ]
     },
     "execution_count": 73,
     "metadata": {},
     "output_type": "execute_result"
    }
   ],
   "source": [
    "sample_info = pd.read_csv('Sample_Information.csv')\n",
    "sample_info.head()"
   ]
  },
  {
   "cell_type": "code",
   "execution_count": 74,
   "metadata": {},
   "outputs": [],
   "source": [
    "sample_info_dict = sample_info.to_dict(orient='records')"
   ]
  },
  {
   "cell_type": "code",
   "execution_count": 77,
   "metadata": {},
   "outputs": [],
   "source": [
    "for record in expression_data_dict:\n",
    "    geneID = record['Gene ID']\n",
    "    del record['Gene ID']\n",
    "    \n",
    "    sampleID = record['Sample ID']\n",
    "    res = sample_info[sample_info['Sample ID'] == sampleID]\n",
    "    sample = res.to_dict(orient='records')[0]\n",
    "    \n",
    "    col.update_one(\n",
    "        {'Gene ID': geneID},\n",
    "        {'$push': {\"sample\":sample}}\n",
    "    )"
   ]
  }
 ],
 "metadata": {
  "kernelspec": {
   "display_name": "base",
   "language": "python",
   "name": "python3"
  },
  "language_info": {
   "codemirror_mode": {
    "name": "ipython",
    "version": 3
   },
   "file_extension": ".py",
   "mimetype": "text/x-python",
   "name": "python",
   "nbconvert_exporter": "python",
   "pygments_lexer": "ipython3",
   "version": "3.10.13"
  }
 },
 "nbformat": 4,
 "nbformat_minor": 2
}
